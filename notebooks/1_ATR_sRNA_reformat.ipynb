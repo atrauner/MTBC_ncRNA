{
 "cells": [
  {
   "cell_type": "markdown",
   "metadata": {},
   "source": [
    "# Combining published ncRNA locations - produce ncRNA gff for RNAseq\n",
    "\n",
    "Before analysing the differential expression of sRNA we need to define them. There have been a number of publications on this topic, however there is no comprehensive list of sRNAs. Arnvig, Cortes and Young published a list of fewer than 20 molecules in their 2014 chapter \"Noncoding RNA in Mycobacteria\". Similarly the 27th release of Tuberculist (ver 2.6) lists 32 sRNAs. A number of other publications add a considerable number to the roster, however the quality of these varies, making it hard to discern real sRNAs from false positives.\n",
    "\n",
    "I will take a inclusive approach and test everything, including antisense transcripts, intergenic and UTR RNA. By doing so, anything that is not affected will produce no signal, while those that are de facto differentially expressed will provide the relevant signal. I will pay the cost of multiple comparison testing. \n",
    "\n",
    "The (naive) alternative is to re-analyse with normal annotation but reverse the orientation to identify genes whose antisense expression is increased. In this case I will pay the cost of signal dilution due to the smaller size of ncRNA when compared to the CDS (e.g. 50-100bp vs 1kb)."
   ]
  },
  {
   "cell_type": "code",
   "execution_count": 1,
   "metadata": {
    "collapsed": true
   },
   "outputs": [],
   "source": [
    "#Python core packages\n",
    "from collections import Counter\n",
    "import string\n",
    "import pickle\n",
    "import datetime\n",
    "import warnings\n",
    "warnings.filterwarnings(\"ignore\")\n",
    "import os\n",
    "\n",
    "#Additional Python packages\n",
    "import tqdm\n",
    "\n",
    "#Scientific packages\n",
    "from scipy import stats as ss\n",
    "import numpy as np\n",
    "import matplotlib as mpl\n",
    "import matplotlib.pyplot as plt\n",
    "from sklearn import utils as sku\n",
    "import pandas as pd\n",
    "import statsmodels.api as sm\n",
    "import statsmodels.formula.api as smf\n",
    "import networkx as nx\n",
    "import cobra.test\n",
    "\n",
    "mpl.rcParams['font.family']='Arial'\n",
    "mpl.rcParams['legend.numpoints'] = 1\n",
    "\n",
    "%matplotlib inline\n",
    "\n",
    "legend_size=text_size=12\n",
    "title_size=axis_size=14"
   ]
  },
  {
   "cell_type": "code",
   "execution_count": 2,
   "metadata": {
    "collapsed": false
   },
   "outputs": [],
   "source": [
    "#define paths\n",
    "external_path = '../data/external/'\n",
    "interim_path = '../data/interim/'\n",
    "processed_path = '../data/processed/'\n",
    "\n",
    "#load data\n",
    "arnvig = pd.read_csv('{}Arnvig_sRNA_confirmed.csv'.format(external_path), index_col=0)\n",
    "tuberculist = pd.read_csv('{}Tuberculist_annotated_sRNA.csv'.format(external_path), index_col=0)\n",
    "miotto = pd.read_csv('{}Miotto_sRNA_candidates.csv'.format(external_path), index_col=0)\n",
    "dichiara = pd.read_csv('{}DiChiara_sRNA_candidates.csv'.format(external_path), index_col=0)\n",
    "namouchi = pd.read_csv('{}Namouchi_sRNA_candidates.csv'.format(external_path), index_col=0)\n",
    "sipht = pd.read_csv('{}SIPHT_sRNA_candidates.csv'.format(external_path), index_col=0)"
   ]
  },
  {
   "cell_type": "code",
   "execution_count": 3,
   "metadata": {
    "collapsed": false
   },
   "outputs": [
    {
     "name": "stdout",
     "output_type": "stream",
     "text": [
      "Index(['name', 'New annotation', 'Other', 'Tuberculist', 'Rfam', 'Strand',\n",
      "       'Flanking CDSs', 'Verified by', '5_ (RACE)', '5_ (TSS)', '3_',\n",
      "       'Expression', 'Conservation', 'start', 'stop'],\n",
      "      dtype='object')\n",
      "Index(['tuberculist_ID', 'name', 'type', 'start', 'end', 'strand'], dtype='object')\n",
      "Index(['Candidate ID', 'Start', 'End', 'Strand', 'Type', 'Length',\n",
      "       'mean reads coverage', 'mean conservation', '-10 promoter consensus',\n",
      "       'Terminator', 'MFE p-val', 'Array p-val', 'p-adj',\n",
      "       'Relative position to CDSs', 'Within', 'Antisense to',\n",
      "       'DistClosestGeneUP', 'DistClosestGeneDOWN', 'Northern_validation'],\n",
      "      dtype='object')\n",
      "Index(['Name', 'Start', 'End', 'Strand', 'Type', 'TB_validated'], dtype='object')\n",
      "Index(['name', 'start', 'stop', 'length', 'orientation', 'sRNA_type',\n",
      "       'location', 'targeted gene(s)', 'gene function(s)', 'COG', 'Source',\n",
      "       'Northern_validated'],\n",
      "      dtype='object')\n",
      "Index(['sRNAName', 'sRNAstart', 'end', 'dirsRNA', 'lensRNA'], dtype='object')\n"
     ]
    }
   ],
   "source": [
    "for x in [arnvig, tuberculist, miotto, dichiara, namouchi, sipht]:\n",
    "    print(x.columns)"
   ]
  },
  {
   "cell_type": "markdown",
   "metadata": {},
   "source": [
    "## Validated consolidation\n",
    "Take arnvig, tuberculist, miotto(validated), dichiara(valdiated) and namouchi (validated) and consolidate them. Remove duplicates.\n",
    "\n",
    "I think for this I will add them all to a dummy MTB stranded genome and look for regions of overlap (multiple coverage) and resolve them."
   ]
  },
  {
   "cell_type": "code",
   "execution_count": 145,
   "metadata": {
    "collapsed": false,
    "scrolled": true
   },
   "outputs": [
    {
     "data": {
      "text/html": [
       "<div>\n",
       "<table border=\"1\" class=\"dataframe\">\n",
       "  <thead>\n",
       "    <tr style=\"text-align: right;\">\n",
       "      <th></th>\n",
       "      <th>end</th>\n",
       "      <th>name</th>\n",
       "      <th>source</th>\n",
       "      <th>start</th>\n",
       "      <th>strand</th>\n",
       "    </tr>\n",
       "  </thead>\n",
       "  <tbody>\n",
       "    <tr>\n",
       "      <th>0</th>\n",
       "      <td>293705</td>\n",
       "      <td>arnvig01</td>\n",
       "      <td>Arnvig14</td>\n",
       "      <td>293602</td>\n",
       "      <td>1</td>\n",
       "    </tr>\n",
       "    <tr>\n",
       "      <th>1</th>\n",
       "      <td>704247</td>\n",
       "      <td>arnvig02</td>\n",
       "      <td>Arnvig14</td>\n",
       "      <td>704187</td>\n",
       "      <td>1</td>\n",
       "    </tr>\n",
       "    <tr>\n",
       "      <th>2</th>\n",
       "      <td>786164</td>\n",
       "      <td>arnvig03</td>\n",
       "      <td>Arnvig14</td>\n",
       "      <td>786038</td>\n",
       "      <td>0</td>\n",
       "    </tr>\n",
       "    <tr>\n",
       "      <th>3</th>\n",
       "      <td>786164</td>\n",
       "      <td>arnvig04</td>\n",
       "      <td>Arnvig14</td>\n",
       "      <td>786090</td>\n",
       "      <td>0</td>\n",
       "    </tr>\n",
       "    <tr>\n",
       "      <th>4</th>\n",
       "      <td>1175315</td>\n",
       "      <td>arnvig05</td>\n",
       "      <td>Arnvig14</td>\n",
       "      <td>1174124</td>\n",
       "      <td>1</td>\n",
       "    </tr>\n",
       "  </tbody>\n",
       "</table>\n",
       "</div>"
      ],
      "text/plain": [
       "       end      name    source    start  strand\n",
       "0   293705  arnvig01  Arnvig14   293602       1\n",
       "1   704247  arnvig02  Arnvig14   704187       1\n",
       "2   786164  arnvig03  Arnvig14   786038       0\n",
       "3   786164  arnvig04  Arnvig14   786090       0\n",
       "4  1175315  arnvig05  Arnvig14  1174124       1"
      ]
     },
     "execution_count": 145,
     "metadata": {},
     "output_type": "execute_result"
    }
   ],
   "source": [
    "tier1 = pd.DataFrame({'name': list(arnvig.name)+list(tuberculist.name)+list(miotto[miotto.Northern_validation==1]['Candidate ID'])+list(dichiara[dichiara.TB_validated==1]['Name'])+list(namouchi[namouchi.Northern_validated==1]['name']), \n",
    "                      'start': list(arnvig.start)+list(tuberculist.start)+list(miotto[miotto.Northern_validation==1]['Start'])+list(dichiara[dichiara.TB_validated==1]['Start'])+list(namouchi[namouchi.Northern_validated==1]['start']), \n",
    "                      'end': list(arnvig.stop)+list(tuberculist.end)+list(miotto[miotto.Northern_validation==1]['End'])+list(dichiara[dichiara.TB_validated==1]['End'])+list(namouchi[namouchi.Northern_validated==1]['stop']), \n",
    "                      'strand': list(arnvig.Strand)+list(tuberculist.strand)+list(miotto[miotto.Northern_validation==1]['Strand'])+list(dichiara[dichiara.TB_validated==1]['Strand'])+list(namouchi[namouchi.Northern_validated==1]['orientation']),\n",
    "                      'source':['Arnvig14',]*len(arnvig)+['Tuberculist',]*len(tuberculist)+['Miotto13',]*len(miotto[miotto.Northern_validation==1])+['DiChiara10',]*len(dichiara[dichiara.TB_validated==1])+['Namouchi16',]*len(namouchi[namouchi.Northern_validated==1])})\n",
    "\n",
    "tier1.head()"
   ]
  },
  {
   "cell_type": "code",
   "execution_count": 5,
   "metadata": {
    "collapsed": false
   },
   "outputs": [],
   "source": [
    "mtb_dummy = np.zeros((2,4411532))\n",
    "\n",
    "for (_start, _end, _strand) in zip(list(tier1.start),list(tier1.end),list(tier1.strand)):\n",
    "    mtb_dummy[_strand,_start:_end]+=1"
   ]
  },
  {
   "cell_type": "code",
   "execution_count": 6,
   "metadata": {
    "collapsed": false
   },
   "outputs": [
    {
     "name": "stdout",
     "output_type": "stream",
     "text": [
      "Counter({0.0: 4405250, 1.0: 6218, 2.0: 64})\n",
      "Counter({0.0: 4399519, 1.0: 9693, 2.0: 2114, 3.0: 206})\n"
     ]
    }
   ],
   "source": [
    "print(Counter(mtb_dummy[0]))\n",
    "print(Counter(mtb_dummy[1]))"
   ]
  },
  {
   "cell_type": "markdown",
   "metadata": {},
   "source": [
    "Looks like there are overlapping sRNAs... check out the duplciates in [0]."
   ]
  },
  {
   "cell_type": "code",
   "execution_count": 7,
   "metadata": {
    "collapsed": false
   },
   "outputs": [
    {
     "data": {
      "text/plain": [
       "(array([1275993, 1275994, 1275995, 1275996, 1275997, 1275998, 1275999,\n",
       "        1276000, 1276001, 1276002, 1276003, 1276004, 1276005, 1276006,\n",
       "        1276007, 1276008, 1276009, 1276010, 1276011, 1276012, 1276013,\n",
       "        1276014, 1276015, 1276016, 1276017, 1276018, 1276019, 1276020,\n",
       "        1276021, 1276022, 1276023, 1276024, 1276025, 1276026, 1276027,\n",
       "        1276028, 1276029, 1276030, 1276031, 1276032, 1276033, 1276034,\n",
       "        1276035, 1276036, 1276037, 1276038, 1276039, 1276040, 1276041,\n",
       "        1276042, 1276043, 1276044, 1276045, 1276046, 1276047, 1276048,\n",
       "        1276049, 1276050, 1276051, 1276052, 1276053, 1276054, 1276055,\n",
       "        1276056]),)"
      ]
     },
     "execution_count": 7,
     "metadata": {},
     "output_type": "execute_result"
    }
   ],
   "source": [
    "np.where(mtb_dummy[0]==2)"
   ]
  },
  {
   "cell_type": "markdown",
   "metadata": {},
   "source": [
    "They belong to the same range. Pick a value somewhere in the middle: 1276056"
   ]
  },
  {
   "cell_type": "code",
   "execution_count": 8,
   "metadata": {
    "collapsed": false
   },
   "outputs": [
    {
     "name": "stdout",
     "output_type": "stream",
     "text": [
      "       end      name    start  strand\n",
      "7  1276057  arnvig08  1275957       0\n",
      "8  1276057  arnvig09  1275993       0\n"
     ]
    }
   ],
   "source": [
    "chk = 1276056\n",
    "print(tier1[(tier1.start<=chk)&(tier1.end>=chk)])"
   ]
  },
  {
   "cell_type": "markdown",
   "metadata": {},
   "source": [
    "This would be less straightforward for [1]. But we can see how many duplicates we have from a plot of the genomic loci that are duplicated."
   ]
  },
  {
   "cell_type": "code",
   "execution_count": 9,
   "metadata": {
    "collapsed": false
   },
   "outputs": [
    {
     "data": {
      "text/plain": [
       "[<matplotlib.lines.Line2D at 0x10b540d30>]"
      ]
     },
     "execution_count": 9,
     "metadata": {},
     "output_type": "execute_result"
    },
    {
     "data": {
      "image/png": "[encoded data removed]",
      "text/plain": [
       "<matplotlib.figure.Figure at 0x10b6b4240>"
      ]
     },
     "metadata": {},
     "output_type": "display_data"
    }
   ],
   "source": [
    "a = list(np.where(mtb_dummy[1]==2)[0])\n",
    "plt.plot(a)"
   ]
  },
  {
   "cell_type": "markdown",
   "metadata": {},
   "source": [
    "Based on this there are 10 duplicated sRNAs in [1]. "
   ]
  },
  {
   "cell_type": "code",
   "execution_count": 10,
   "metadata": {
    "collapsed": false
   },
   "outputs": [],
   "source": [
    "#Duplicates in 0 - picked a number in the middle of the above range\n",
    "F_2 = [1276056]\n",
    "#duplicates in 1 - did the same as above for the other strand\n",
    "R_2 = [293642, 321590, 704210, 1175202, 1498165, \n",
    "       1547215, 4040920, 4100800, 4073650, 4317151]\n",
    "\n",
    "R_3 = [1175275, 1960712]\n",
    "\n",
    "duplicated = F_2 + R_2 + R_3"
   ]
  },
  {
   "cell_type": "markdown",
   "metadata": {},
   "source": [
    "Print out the relevant sRNAs."
   ]
  },
  {
   "cell_type": "code",
   "execution_count": 11,
   "metadata": {
    "collapsed": false,
    "scrolled": true
   },
   "outputs": [
    {
     "name": "stdout",
     "output_type": "stream",
     "text": [
      "\n",
      "--------\n",
      "Position in overlap: 1276056\n",
      "--------\n",
      "\n",
      "       end      name    start  strand\n",
      "7  1276057  arnvig08  1275957       0\n",
      "8  1276057  arnvig09  1275993       0\n",
      "\n",
      "--------\n",
      "Position in overlap: 293642\n",
      "--------\n",
      "\n",
      "       end      name   start  strand\n",
      "0   293705  arnvig01  293602       1\n",
      "23  293705        F6  293604       1\n",
      "\n",
      "--------\n",
      "Position in overlap: 321590\n",
      "--------\n",
      "\n",
      "       end   name   start  strand\n",
      "81  321829  Mcr14  321523       1\n",
      "91  321829  Mpr13  321523       1\n",
      "\n",
      "--------\n",
      "Position in overlap: 704210\n",
      "--------\n",
      "\n",
      "       end      name   start  strand\n",
      "1   704247  arnvig02  704187       1\n",
      "24  704247       B55  704187       1\n",
      "\n",
      "--------\n",
      "Position in overlap: 1175202\n",
      "--------\n",
      "\n",
      "       end      name    start  strand\n",
      "4  1175315  arnvig05  1174124       1\n",
      "5  1175315  arnvig06  1175178       1\n",
      "\n",
      "--------\n",
      "Position in overlap: 1498165\n",
      "--------\n",
      "\n",
      "        end  name    start  strand\n",
      "75  1498360  Mcr3  1498091       1\n",
      "88  1498360  Mpr7  1498091       1\n",
      "\n",
      "--------\n",
      "Position in overlap: 1547215\n",
      "--------\n",
      "\n",
      "        end      name    start  strand\n",
      "10  1547350  arnvig11  1547129       1\n",
      "50  1547268   MTS1082  1547129       1\n",
      "\n",
      "--------\n",
      "Position in overlap: 4040920\n",
      "--------\n",
      "\n",
      "        end      name    start  strand\n",
      "22  4040938  arnvig23  4040879       1\n",
      "44  4040938     mpr17  4040879       1\n",
      "\n",
      "--------\n",
      "Position in overlap: 4100800\n",
      "--------\n",
      "\n",
      "        end      name    start  strand\n",
      "20  4100987  arnvig21  4100682       1\n",
      "52  4100968   MTS2823  4100669       1\n",
      "\n",
      "--------\n",
      "Position in overlap: 4073650\n",
      "--------\n",
      "\n",
      "        end  name    start  strand\n",
      "79  4074378  Mcr8  4073623       1\n",
      "85  4074378  Mpr4  4073623       1\n",
      "\n",
      "--------\n",
      "Position in overlap: 4317151\n",
      "--------\n",
      "\n",
      "        end      name    start  strand\n",
      "21  4317165  arnvig22  4317073       1\n",
      "54  4317165   MTS2975  4317073       1\n",
      "\n",
      "--------\n",
      "Position in overlap: 1175275\n",
      "--------\n",
      "\n",
      "        end      name    start  strand\n",
      "4   1175315  arnvig05  1174124       1\n",
      "5   1175315  arnvig06  1175178       1\n",
      "33  1175315      mpr5  1175225       1\n",
      "\n",
      "--------\n",
      "Position in overlap: 1960712\n",
      "--------\n",
      "\n",
      "        end      name    start  strand\n",
      "14  1960783  arnvig15  1960601       1\n",
      "15  1960783  arnvig16  1960667       1\n",
      "51  1960783   MTS1338  1960667       1\n"
     ]
    }
   ],
   "source": [
    "for chk in duplicated:\n",
    "        print('\\n--------\\nPosition in overlap: {}\\n--------\\n'.format(chk))\n",
    "        print(tier1[(tier1.start<=chk)&(tier1.end>=chk)])"
   ]
  },
  {
   "cell_type": "code",
   "execution_count": 12,
   "metadata": {
    "collapsed": true
   },
   "outputs": [],
   "source": [
    "suspend = ['arnvig09', 'arnvig05', 'mpr5', 'arnvig16', \n",
    "           'MTS1338', 'arnvig01', 'Mpr13', 'arnvig02', \n",
    "           'Mpr7', 'arnvig11', 'arnvig23', 'arnvig21',\n",
    "           'Mpr4', 'arnvig22']\n",
    "\n",
    "tier1['keep'] = [int(x not in suspend) for x in tier1.name]"
   ]
  },
  {
   "cell_type": "code",
   "execution_count": 13,
   "metadata": {
    "collapsed": true
   },
   "outputs": [],
   "source": [
    "mtb_dummy2 = np.zeros((2,4411532))\n",
    "\n",
    "for (_start, _end, _strand) in zip(list(tier1[tier1.keep==1].start),\n",
    "                                   list(tier1[tier1.keep==1].end),\n",
    "                                   list(tier1[tier1.keep==1].strand)):\n",
    "    mtb_dummy2[_strand,_start:_end]+=1"
   ]
  },
  {
   "cell_type": "code",
   "execution_count": 14,
   "metadata": {
    "collapsed": false
   },
   "outputs": [
    {
     "name": "stdout",
     "output_type": "stream",
     "text": [
      "Counter({0.0: 4405250, 1.0: 6282})\n",
      "Counter({0.0: 4400676, 1.0: 10856})\n"
     ]
    }
   ],
   "source": [
    "print(Counter(mtb_dummy2[0]))\n",
    "print(Counter(mtb_dummy2[1]))"
   ]
  },
  {
   "cell_type": "markdown",
   "metadata": {},
   "source": [
    "OK, this worked. But I need an automatic way of doing this going forward (for tier2 sRNAs).\n",
    "\n",
    "Try a numerical approach on these data..."
   ]
  },
  {
   "cell_type": "code",
   "execution_count": 15,
   "metadata": {
    "collapsed": false
   },
   "outputs": [
    {
     "data": {
      "text/plain": [
       "[<matplotlib.lines.Line2D at 0x10b661eb8>]"
      ]
     },
     "execution_count": 15,
     "metadata": {},
     "output_type": "execute_result"
    },
    {
     "data": {
      "image/png": "[encoded data removed]",
      "text/plain": [
       "<matplotlib.figure.Figure at 0x10b5b45c0>"
      ]
     },
     "metadata": {},
     "output_type": "display_data"
    }
   ],
   "source": [
    "#Get all the duplicated loci and sort them\n",
    "overlaps = sorted(list(np.where(mtb_dummy[1]>1)[0])+list(np.where(mtb_dummy[0]>1)[0]))\n",
    "\n",
    "#Plot them out\n",
    "plt.plot(overlaps)"
   ]
  },
  {
   "cell_type": "markdown",
   "metadata": {},
   "source": [
    "Once I have the loci sorted like this I would expect that congruous duplicated sRNA loci have a increment of 1, while any duplications further along have an increment of more than that. So if I start from the first duplicated position I should be able to define the starts of every other duplicated position because: \n",
    "\n",
    "``x[i]-x[i-1]>1``"
   ]
  },
  {
   "cell_type": "code",
   "execution_count": 146,
   "metadata": {
    "collapsed": false
   },
   "outputs": [],
   "source": [
    "overlap_sRNA_starts = [overlaps[0]]\n",
    "for ind,val in enumerate(overlaps[1:]):\n",
    "    if val-overlaps[ind]>1: overlap_sRNA_starts.append(val)"
   ]
  },
  {
   "cell_type": "code",
   "execution_count": 17,
   "metadata": {
    "collapsed": false
   },
   "outputs": [
    {
     "data": {
      "text/plain": [
       "[293604,\n",
       " 321523,\n",
       " 704187,\n",
       " 1175178,\n",
       " 1275993,\n",
       " 1498091,\n",
       " 1547129,\n",
       " 1960667,\n",
       " 4040879,\n",
       " 4073623,\n",
       " 4100682,\n",
       " 4317073]"
      ]
     },
     "execution_count": 17,
     "metadata": {},
     "output_type": "execute_result"
    }
   ],
   "source": [
    "overlap_sRNA_starts"
   ]
  },
  {
   "cell_type": "code",
   "execution_count": 18,
   "metadata": {
    "collapsed": false,
    "scrolled": true
   },
   "outputs": [
    {
     "name": "stdout",
     "output_type": "stream",
     "text": [
      "\n",
      "--------\n",
      "Position in overlap: 293604\n",
      "--------\n",
      "\n",
      "       end      name   start  strand  keep\n",
      "0   293705  arnvig01  293602       1     0\n",
      "23  293705        F6  293604       1     1\n",
      "\n",
      "--------\n",
      "Position in overlap: 321523\n",
      "--------\n",
      "\n",
      "       end   name   start  strand  keep\n",
      "81  321829  Mcr14  321523       1     1\n",
      "91  321829  Mpr13  321523       1     0\n",
      "\n",
      "--------\n",
      "Position in overlap: 704187\n",
      "--------\n",
      "\n",
      "       end      name   start  strand  keep\n",
      "1   704247  arnvig02  704187       1     0\n",
      "24  704247       B55  704187       1     1\n",
      "\n",
      "--------\n",
      "Position in overlap: 1175178\n",
      "--------\n",
      "\n",
      "       end      name    start  strand  keep\n",
      "4  1175315  arnvig05  1174124       1     0\n",
      "5  1175315  arnvig06  1175178       1     1\n",
      "\n",
      "--------\n",
      "Position in overlap: 1275993\n",
      "--------\n",
      "\n",
      "       end      name    start  strand  keep\n",
      "7  1276057  arnvig08  1275957       0     1\n",
      "8  1276057  arnvig09  1275993       0     0\n",
      "\n",
      "--------\n",
      "Position in overlap: 1498091\n",
      "--------\n",
      "\n",
      "        end  name    start  strand  keep\n",
      "75  1498360  Mcr3  1498091       1     1\n",
      "88  1498360  Mpr7  1498091       1     0\n",
      "\n",
      "--------\n",
      "Position in overlap: 1547129\n",
      "--------\n",
      "\n",
      "        end      name    start  strand  keep\n",
      "10  1547350  arnvig11  1547129       1     0\n",
      "50  1547268   MTS1082  1547129       1     1\n",
      "\n",
      "--------\n",
      "Position in overlap: 1960667\n",
      "--------\n",
      "\n",
      "        end      name    start  strand  keep\n",
      "14  1960783  arnvig15  1960601       1     1\n",
      "15  1960783  arnvig16  1960667       1     0\n",
      "51  1960783   MTS1338  1960667       1     0\n",
      "\n",
      "--------\n",
      "Position in overlap: 4040879\n",
      "--------\n",
      "\n",
      "        end      name    start  strand  keep\n",
      "22  4040938  arnvig23  4040879       1     0\n",
      "44  4040938     mpr17  4040879       1     1\n",
      "\n",
      "--------\n",
      "Position in overlap: 4073623\n",
      "--------\n",
      "\n",
      "        end  name    start  strand  keep\n",
      "79  4074378  Mcr8  4073623       1     1\n",
      "85  4074378  Mpr4  4073623       1     0\n",
      "\n",
      "--------\n",
      "Position in overlap: 4100682\n",
      "--------\n",
      "\n",
      "        end      name    start  strand  keep\n",
      "20  4100987  arnvig21  4100682       1     0\n",
      "52  4100968   MTS2823  4100669       1     1\n",
      "\n",
      "--------\n",
      "Position in overlap: 4317073\n",
      "--------\n",
      "\n",
      "        end      name    start  strand  keep\n",
      "21  4317165  arnvig22  4317073       1     0\n",
      "54  4317165   MTS2975  4317073       1     1\n"
     ]
    }
   ],
   "source": [
    "for chk in overlap_sRNA_starts:\n",
    "        print('\\n--------\\nPosition in overlap: {}\\n--------\\n'.format(chk))\n",
    "        print(tier1[(tier1.start<=chk)&(tier1.end>=chk)])"
   ]
  },
  {
   "cell_type": "markdown",
   "metadata": {},
   "source": [
    "Seems to work. Just as a reality check let's just do a strand-naive analysis..."
   ]
  },
  {
   "cell_type": "code",
   "execution_count": 19,
   "metadata": {
    "collapsed": false
   },
   "outputs": [
    {
     "name": "stdout",
     "output_type": "stream",
     "text": [
      "Counter({0.0: 4410708, 1.0: 684, 2.0: 140})\n",
      "Counter({0.0: 4393237, 1.0: 15911, 2.0: 2178, 3.0: 206})\n"
     ]
    }
   ],
   "source": [
    "mtb_dummy3 = np.zeros((2,4411532))\n",
    "\n",
    "for (_start, _end, _strand) in zip(list(tier1.start),list(tier1.end),list(tier1.strand)):\n",
    "    if _start>_end: mtb_dummy3[0,_end:_start]+=1\n",
    "    if _start<_end: mtb_dummy3[1,_start:_end]+=1\n",
    "        \n",
    "print(Counter(mtb_dummy3[0]))\n",
    "print(Counter(mtb_dummy3[1]))"
   ]
  },
  {
   "cell_type": "markdown",
   "metadata": {},
   "source": [
    "The numbers don't add up... most of the sRNAs seem to be in the forward orientation. Let's check where the strand derived from the external data does not match up with the strand from the naive approach."
   ]
  },
  {
   "cell_type": "code",
   "execution_count": 20,
   "metadata": {
    "collapsed": false
   },
   "outputs": [
    {
     "name": "stdout",
     "output_type": "stream",
     "text": [
      "1 0 7\n",
      "1 0 8\n",
      "1 0 16\n",
      "1 0 26\n",
      "1 0 27\n",
      "1 0 30\n",
      "1 0 31\n",
      "1 0 35\n",
      "1 0 36\n",
      "1 0 37\n",
      "1 0 39\n",
      "1 0 40\n",
      "1 0 47\n",
      "1 0 48\n",
      "1 0 66\n",
      "1 0 67\n",
      "1 0 68\n",
      "1 0 69\n",
      "1 0 70\n",
      "1 0 71\n",
      "1 0 72\n",
      "1 0 73\n",
      "1 0 74\n",
      "1 0 76\n",
      "1 0 77\n",
      "1 0 80\n",
      "1 0 82\n",
      "1 0 83\n",
      "1 0 92\n",
      "1 0 95\n",
      "1 0 96\n"
     ]
    },
    {
     "data": {
      "text/html": [
       "<div>\n",
       "<table border=\"1\" class=\"dataframe\">\n",
       "  <thead>\n",
       "    <tr style=\"text-align: right;\">\n",
       "      <th></th>\n",
       "      <th>end</th>\n",
       "      <th>name</th>\n",
       "      <th>start</th>\n",
       "      <th>strand</th>\n",
       "      <th>keep</th>\n",
       "      <th>problem</th>\n",
       "    </tr>\n",
       "  </thead>\n",
       "  <tbody>\n",
       "    <tr>\n",
       "      <th>7</th>\n",
       "      <td>1276057</td>\n",
       "      <td>arnvig08</td>\n",
       "      <td>1275957</td>\n",
       "      <td>0</td>\n",
       "      <td>1</td>\n",
       "      <td>1</td>\n",
       "    </tr>\n",
       "    <tr>\n",
       "      <th>8</th>\n",
       "      <td>1276057</td>\n",
       "      <td>arnvig09</td>\n",
       "      <td>1275993</td>\n",
       "      <td>0</td>\n",
       "      <td>0</td>\n",
       "      <td>1</td>\n",
       "    </tr>\n",
       "    <tr>\n",
       "      <th>16</th>\n",
       "      <td>2029427</td>\n",
       "      <td>arnvig17</td>\n",
       "      <td>2028973</td>\n",
       "      <td>0</td>\n",
       "      <td>1</td>\n",
       "      <td>1</td>\n",
       "    </tr>\n",
       "    <tr>\n",
       "      <th>26</th>\n",
       "      <td>1915190</td>\n",
       "      <td>G2</td>\n",
       "      <td>1914962</td>\n",
       "      <td>0</td>\n",
       "      <td>1</td>\n",
       "      <td>1</td>\n",
       "    </tr>\n",
       "    <tr>\n",
       "      <th>27</th>\n",
       "      <td>1952503</td>\n",
       "      <td>AS1726</td>\n",
       "      <td>1952291</td>\n",
       "      <td>0</td>\n",
       "      <td>1</td>\n",
       "      <td>1</td>\n",
       "    </tr>\n",
       "    <tr>\n",
       "      <th>30</th>\n",
       "      <td>4099478</td>\n",
       "      <td>B11</td>\n",
       "      <td>4099386</td>\n",
       "      <td>0</td>\n",
       "      <td>1</td>\n",
       "      <td>1</td>\n",
       "    </tr>\n",
       "    <tr>\n",
       "      <th>31</th>\n",
       "      <td>4168281</td>\n",
       "      <td>C8</td>\n",
       "      <td>4168154</td>\n",
       "      <td>0</td>\n",
       "      <td>1</td>\n",
       "      <td>1</td>\n",
       "    </tr>\n",
       "    <tr>\n",
       "      <th>35</th>\n",
       "      <td>1413224</td>\n",
       "      <td>mcr11</td>\n",
       "      <td>1413094</td>\n",
       "      <td>0</td>\n",
       "      <td>1</td>\n",
       "      <td>1</td>\n",
       "    </tr>\n",
       "    <tr>\n",
       "      <th>36</th>\n",
       "      <td>1413237</td>\n",
       "      <td>mcr11</td>\n",
       "      <td>1413232</td>\n",
       "      <td>0</td>\n",
       "      <td>1</td>\n",
       "      <td>1</td>\n",
       "    </tr>\n",
       "    <tr>\n",
       "      <th>37</th>\n",
       "      <td>1413260</td>\n",
       "      <td>mcr11</td>\n",
       "      <td>1413255</td>\n",
       "      <td>0</td>\n",
       "      <td>1</td>\n",
       "      <td>1</td>\n",
       "    </tr>\n",
       "    <tr>\n",
       "      <th>39</th>\n",
       "      <td>1535716</td>\n",
       "      <td>mcr15</td>\n",
       "      <td>1535417</td>\n",
       "      <td>0</td>\n",
       "      <td>1</td>\n",
       "      <td>1</td>\n",
       "    </tr>\n",
       "    <tr>\n",
       "      <th>40</th>\n",
       "      <td>2437866</td>\n",
       "      <td>mcr5</td>\n",
       "      <td>2437823</td>\n",
       "      <td>0</td>\n",
       "      <td>1</td>\n",
       "      <td>1</td>\n",
       "    </tr>\n",
       "    <tr>\n",
       "      <th>47</th>\n",
       "      <td>2517134</td>\n",
       "      <td>mcr16</td>\n",
       "      <td>2517032</td>\n",
       "      <td>0</td>\n",
       "      <td>1</td>\n",
       "      <td>1</td>\n",
       "    </tr>\n",
       "    <tr>\n",
       "      <th>48</th>\n",
       "      <td>1220487</td>\n",
       "      <td>MTS0858</td>\n",
       "      <td>1220388</td>\n",
       "      <td>0</td>\n",
       "      <td>1</td>\n",
       "      <td>1</td>\n",
       "    </tr>\n",
       "    <tr>\n",
       "      <th>66</th>\n",
       "      <td>938239</td>\n",
       "      <td>candidate_1080</td>\n",
       "      <td>937956</td>\n",
       "      <td>0</td>\n",
       "      <td>1</td>\n",
       "      <td>1</td>\n",
       "    </tr>\n",
       "    <tr>\n",
       "      <th>67</th>\n",
       "      <td>1041165</td>\n",
       "      <td>candidate_1096</td>\n",
       "      <td>1041129</td>\n",
       "      <td>0</td>\n",
       "      <td>1</td>\n",
       "      <td>1</td>\n",
       "    </tr>\n",
       "    <tr>\n",
       "      <th>68</th>\n",
       "      <td>1275673</td>\n",
       "      <td>candidate_1137</td>\n",
       "      <td>1275611</td>\n",
       "      <td>0</td>\n",
       "      <td>1</td>\n",
       "      <td>1</td>\n",
       "    </tr>\n",
       "    <tr>\n",
       "      <th>69</th>\n",
       "      <td>1306073</td>\n",
       "      <td>candidate_1149</td>\n",
       "      <td>1306038</td>\n",
       "      <td>0</td>\n",
       "      <td>1</td>\n",
       "      <td>1</td>\n",
       "    </tr>\n",
       "    <tr>\n",
       "      <th>70</th>\n",
       "      <td>2429373</td>\n",
       "      <td>candidate_1359*</td>\n",
       "      <td>2429342</td>\n",
       "      <td>0</td>\n",
       "      <td>1</td>\n",
       "      <td>1</td>\n",
       "    </tr>\n",
       "    <tr>\n",
       "      <th>71</th>\n",
       "      <td>3363153</td>\n",
       "      <td>candidate_1502</td>\n",
       "      <td>3363023</td>\n",
       "      <td>0</td>\n",
       "      <td>1</td>\n",
       "      <td>1</td>\n",
       "    </tr>\n",
       "    <tr>\n",
       "      <th>72</th>\n",
       "      <td>3621466</td>\n",
       "      <td>candidate_1542</td>\n",
       "      <td>3621265</td>\n",
       "      <td>0</td>\n",
       "      <td>1</td>\n",
       "      <td>1</td>\n",
       "    </tr>\n",
       "    <tr>\n",
       "      <th>73</th>\n",
       "      <td>3800091</td>\n",
       "      <td>candidate_1556</td>\n",
       "      <td>3800005</td>\n",
       "      <td>0</td>\n",
       "      <td>1</td>\n",
       "      <td>1</td>\n",
       "    </tr>\n",
       "    <tr>\n",
       "      <th>74</th>\n",
       "      <td>3837458</td>\n",
       "      <td>candidate_1565</td>\n",
       "      <td>3837288</td>\n",
       "      <td>0</td>\n",
       "      <td>1</td>\n",
       "      <td>1</td>\n",
       "    </tr>\n",
       "    <tr>\n",
       "      <th>76</th>\n",
       "      <td>2416417</td>\n",
       "      <td>Mcr5</td>\n",
       "      <td>2415977</td>\n",
       "      <td>0</td>\n",
       "      <td>1</td>\n",
       "      <td>1</td>\n",
       "    </tr>\n",
       "    <tr>\n",
       "      <th>77</th>\n",
       "      <td>4141913</td>\n",
       "      <td>Mcr6</td>\n",
       "      <td>4141696</td>\n",
       "      <td>0</td>\n",
       "      <td>1</td>\n",
       "      <td>1</td>\n",
       "    </tr>\n",
       "    <tr>\n",
       "      <th>80</th>\n",
       "      <td>3317835</td>\n",
       "      <td>Mcr9</td>\n",
       "      <td>3317473</td>\n",
       "      <td>0</td>\n",
       "      <td>1</td>\n",
       "      <td>1</td>\n",
       "    </tr>\n",
       "    <tr>\n",
       "      <th>82</th>\n",
       "      <td>1562197</td>\n",
       "      <td>Mcr15</td>\n",
       "      <td>1561906</td>\n",
       "      <td>0</td>\n",
       "      <td>1</td>\n",
       "      <td>1</td>\n",
       "    </tr>\n",
       "    <tr>\n",
       "      <th>83</th>\n",
       "      <td>2496340</td>\n",
       "      <td>Mcr16</td>\n",
       "      <td>2495432</td>\n",
       "      <td>0</td>\n",
       "      <td>1</td>\n",
       "      <td>1</td>\n",
       "    </tr>\n",
       "    <tr>\n",
       "      <th>92</th>\n",
       "      <td>3506773</td>\n",
       "      <td>Mpr15</td>\n",
       "      <td>3506235</td>\n",
       "      <td>0</td>\n",
       "      <td>1</td>\n",
       "      <td>1</td>\n",
       "    </tr>\n",
       "    <tr>\n",
       "      <th>95</th>\n",
       "      <td>4072760</td>\n",
       "      <td>Mpr19</td>\n",
       "      <td>4072260</td>\n",
       "      <td>0</td>\n",
       "      <td>1</td>\n",
       "      <td>1</td>\n",
       "    </tr>\n",
       "    <tr>\n",
       "      <th>96</th>\n",
       "      <td>3509884</td>\n",
       "      <td>ncRNA34</td>\n",
       "      <td>3509788</td>\n",
       "      <td>0</td>\n",
       "      <td>1</td>\n",
       "      <td>1</td>\n",
       "    </tr>\n",
       "  </tbody>\n",
       "</table>\n",
       "</div>"
      ],
      "text/plain": [
       "        end             name    start  strand  keep  problem\n",
       "7   1276057         arnvig08  1275957       0     1        1\n",
       "8   1276057         arnvig09  1275993       0     0        1\n",
       "16  2029427         arnvig17  2028973       0     1        1\n",
       "26  1915190               G2  1914962       0     1        1\n",
       "27  1952503           AS1726  1952291       0     1        1\n",
       "30  4099478              B11  4099386       0     1        1\n",
       "31  4168281               C8  4168154       0     1        1\n",
       "35  1413224            mcr11  1413094       0     1        1\n",
       "36  1413237            mcr11  1413232       0     1        1\n",
       "37  1413260            mcr11  1413255       0     1        1\n",
       "39  1535716            mcr15  1535417       0     1        1\n",
       "40  2437866             mcr5  2437823       0     1        1\n",
       "47  2517134            mcr16  2517032       0     1        1\n",
       "48  1220487          MTS0858  1220388       0     1        1\n",
       "66   938239   candidate_1080   937956       0     1        1\n",
       "67  1041165   candidate_1096  1041129       0     1        1\n",
       "68  1275673   candidate_1137  1275611       0     1        1\n",
       "69  1306073   candidate_1149  1306038       0     1        1\n",
       "70  2429373  candidate_1359*  2429342       0     1        1\n",
       "71  3363153   candidate_1502  3363023       0     1        1\n",
       "72  3621466   candidate_1542  3621265       0     1        1\n",
       "73  3800091   candidate_1556  3800005       0     1        1\n",
       "74  3837458   candidate_1565  3837288       0     1        1\n",
       "76  2416417             Mcr5  2415977       0     1        1\n",
       "77  4141913             Mcr6  4141696       0     1        1\n",
       "80  3317835             Mcr9  3317473       0     1        1\n",
       "82  1562197            Mcr15  1561906       0     1        1\n",
       "83  2496340            Mcr16  2495432       0     1        1\n",
       "92  3506773            Mpr15  3506235       0     1        1\n",
       "95  4072760            Mpr19  4072260       0     1        1\n",
       "96  3509884          ncRNA34  3509788       0     1        1"
      ]
     },
     "execution_count": 20,
     "metadata": {},
     "output_type": "execute_result"
    }
   ],
   "source": [
    "issues = []\n",
    "for (_start, _end, _strand, _index) in zip(list(tier1.start),list(tier1.end),list(tier1.strand),list(tier1.index)):\n",
    "    \n",
    "    _predicted_strand=1\n",
    "    \n",
    "    if _start>_end: \n",
    "        _predicted_strand=0\n",
    "        \n",
    "    if _predicted_strand!=_strand:\n",
    "        print(_predicted_strand, _strand, _index)\n",
    "        issues.append(_index)\n",
    "\n",
    "tier1['problem'] = [int(x in issues) for x in tier1.index]\n",
    "tier1[tier1.problem==1]"
   ]
  },
  {
   "cell_type": "code",
   "execution_count": 30,
   "metadata": {
    "collapsed": false
   },
   "outputs": [],
   "source": [
    "#clean up\n",
    "tier1.drop('problem', 1, inplace=True)\n",
    "del temp1"
   ]
  },
  {
   "cell_type": "markdown",
   "metadata": {},
   "source": [
    "Clearly there is something going on here... these need to be manually checked! Looks like all of the problematic species are supposed to be on the reverse strand though...\n",
    "\n",
    "Having looked through the files for Tuberculist, Namouchi and DiChiara, none of them reverse the start and end for reverse strand sRNAs. So there we can invert. The situation for Arnvig is less clear, however it seems that this was done for the majority of the sRNAs just not the three highlighted above.\n",
    "\n",
    "As a result, trust the strand annotation not the start/stop annotation. I guess I'll have to correct the dataframe to reflect this.\n",
    "\n",
    "Perhaps easiest if I make the start-stop coordinates such that __start is always smaller than stop__.\n",
    "\n",
    "## Correct sRNA orientation annotation\n",
    "\n",
    "Start by identifying situations where this is not the case."
   ]
  },
  {
   "cell_type": "code",
   "execution_count": 21,
   "metadata": {
    "collapsed": false
   },
   "outputs": [
    {
     "data": {
      "text/plain": [
       "7"
      ]
     },
     "execution_count": 21,
     "metadata": {},
     "output_type": "execute_result"
    }
   ],
   "source": [
    "len(tier1[tier1.start>tier1.end])"
   ]
  },
  {
   "cell_type": "code",
   "execution_count": 22,
   "metadata": {
    "collapsed": false
   },
   "outputs": [
    {
     "data": {
      "text/plain": [
       "0"
      ]
     },
     "execution_count": 22,
     "metadata": {},
     "output_type": "execute_result"
    }
   ],
   "source": [
    "#Get coordinates and find where things don't add up\n",
    "_starts = list(tier1.start)\n",
    "_ends = list(tier1.end)\n",
    "change = np.where(np.array(_starts)>np.array(_ends))[0]\n",
    "\n",
    "#replace the starts and ends such that the convetion is kept\n",
    "for x in change:\n",
    "    _starts[x], _ends[x] = _ends[x],_starts[x]\n",
    "    \n",
    "#update the values in the dataframe\n",
    "tier1.start = _starts\n",
    "tier1.end = _ends\n",
    "\n",
    "#cleanup\n",
    "del _starts, _ends, change\n",
    "\n",
    "#check\n",
    "len(tier1[tier1.start>tier1.end])"
   ]
  },
  {
   "cell_type": "markdown",
   "metadata": {},
   "source": [
    "Worked fine, now let's update the external data, as I clearly made an inputing mistake."
   ]
  },
  {
   "cell_type": "code",
   "execution_count": 23,
   "metadata": {
    "collapsed": true
   },
   "outputs": [],
   "source": [
    "#Get coordinates and find where things don't add up\n",
    "_starts = list(arnvig.start)\n",
    "_ends = list(arnvig.stop)\n",
    "change = np.where(np.array(_starts)>np.array(_ends))[0]\n",
    "\n",
    "#replace the starts and ends such that the convetion is kept\n",
    "for x in change:\n",
    "    _starts[x], _ends[x] = _ends[x],_starts[x]\n",
    "    \n",
    "#update the values in the dataframe\n",
    "arnvig.start = _starts\n",
    "arnvig.stop = _ends\n",
    "\n",
    "#cleanup\n",
    "del _starts, _ends, change\n",
    "\n",
    "arnvig.to_csv('{}Arnvig2_sRNA_confirmed.csv'.format(external_path))"
   ]
  },
  {
   "cell_type": "code",
   "execution_count": 24,
   "metadata": {
    "collapsed": false
   },
   "outputs": [
    {
     "name": "stdout",
     "output_type": "stream",
     "text": [
      "Counter({0.0: 4404863, 1.0: 6094, 2.0: 509, 3.0: 66})\n",
      "Counter({0.0: 4399519, 1.0: 9693, 2.0: 2114, 3.0: 206})\n"
     ]
    }
   ],
   "source": [
    "mtb_dummy = np.zeros((2,4411532))\n",
    "\n",
    "for (_start, _end, _strand) in zip(list(tier1.start),list(tier1.end),list(tier1.strand)):\n",
    "    mtb_dummy[_strand,_start:_end]+=1\n",
    "    \n",
    "print(Counter(mtb_dummy[0]))\n",
    "print(Counter(mtb_dummy[1]))"
   ]
  },
  {
   "cell_type": "markdown",
   "metadata": {},
   "source": [
    "## Identify overlapping _Tier1_ sRNA"
   ]
  },
  {
   "cell_type": "code",
   "execution_count": 25,
   "metadata": {
    "collapsed": false
   },
   "outputs": [
    {
     "data": {
      "text/plain": [
       "[<matplotlib.lines.Line2D at 0x10b7be3c8>]"
      ]
     },
     "execution_count": 25,
     "metadata": {},
     "output_type": "execute_result"
    },
    {
     "data": {
      "image/png": "[encoded data removed]",
      "text/plain": [
       "<matplotlib.figure.Figure at 0x10b62e080>"
      ]
     },
     "metadata": {},
     "output_type": "display_data"
    }
   ],
   "source": [
    "#Get all the duplicated loci and sort them\n",
    "overlaps = sorted(list(np.where(mtb_dummy[1]>1)[0])+list(np.where(mtb_dummy[0]>1)[0]))\n",
    "\n",
    "#Plot them out\n",
    "plt.plot(overlaps)"
   ]
  },
  {
   "cell_type": "code",
   "execution_count": 27,
   "metadata": {
    "collapsed": false
   },
   "outputs": [
    {
     "name": "stdout",
     "output_type": "stream",
     "text": [
      "16\n",
      "[293604, 321523, 704187, 786090, 1175178, 1275993, 1413107, 1498091, 1547129, 1914962, 1960667, 4040879, 4073623, 4099386, 4100682, 4317073]\n"
     ]
    }
   ],
   "source": [
    "overlap_sRNA_starts = [overlaps[0]]\n",
    "for ind,val in enumerate(overlaps[1:]):\n",
    "    if val-overlaps[ind]>1: overlap_sRNA_starts.append(val)\n",
    "        \n",
    "print(len(overlap_sRNA_starts))\n",
    "print(overlap_sRNA_starts)"
   ]
  },
  {
   "cell_type": "markdown",
   "metadata": {},
   "source": [
    "Next decide which ones of the overlap to keep. Above I've stuck to the ones that have proper names, but that cannot be done automatically. Could do:\n",
    "- shortest sRNA\n",
    "- longest sRNA\n",
    "- random sRNA\n",
    "\n",
    "Let's say that the shortest sRNA is the most conservative approach that should not ablate true signal."
   ]
  },
  {
   "cell_type": "code",
   "execution_count": 28,
   "metadata": {
    "collapsed": false
   },
   "outputs": [
    {
     "data": {
      "text/html": [
       "<div>\n",
       "<table border=\"1\" class=\"dataframe\">\n",
       "  <thead>\n",
       "    <tr style=\"text-align: right;\">\n",
       "      <th></th>\n",
       "      <th>end</th>\n",
       "      <th>name</th>\n",
       "      <th>start</th>\n",
       "      <th>strand</th>\n",
       "      <th>keep</th>\n",
       "      <th>problem</th>\n",
       "    </tr>\n",
       "  </thead>\n",
       "  <tbody>\n",
       "    <tr>\n",
       "      <th>0</th>\n",
       "      <td>293705</td>\n",
       "      <td>arnvig01</td>\n",
       "      <td>293602</td>\n",
       "      <td>1</td>\n",
       "      <td>0</td>\n",
       "      <td>0</td>\n",
       "    </tr>\n",
       "    <tr>\n",
       "      <th>1</th>\n",
       "      <td>704247</td>\n",
       "      <td>arnvig02</td>\n",
       "      <td>704187</td>\n",
       "      <td>1</td>\n",
       "      <td>1</td>\n",
       "      <td>0</td>\n",
       "    </tr>\n",
       "    <tr>\n",
       "      <th>2</th>\n",
       "      <td>786164</td>\n",
       "      <td>arnvig03</td>\n",
       "      <td>786038</td>\n",
       "      <td>0</td>\n",
       "      <td>0</td>\n",
       "      <td>0</td>\n",
       "    </tr>\n",
       "    <tr>\n",
       "      <th>3</th>\n",
       "      <td>786164</td>\n",
       "      <td>arnvig04</td>\n",
       "      <td>786090</td>\n",
       "      <td>0</td>\n",
       "      <td>1</td>\n",
       "      <td>0</td>\n",
       "    </tr>\n",
       "    <tr>\n",
       "      <th>4</th>\n",
       "      <td>1175315</td>\n",
       "      <td>arnvig05</td>\n",
       "      <td>1174124</td>\n",
       "      <td>1</td>\n",
       "      <td>0</td>\n",
       "      <td>0</td>\n",
       "    </tr>\n",
       "  </tbody>\n",
       "</table>\n",
       "</div>"
      ],
      "text/plain": [
       "       end      name    start  strand  keep  problem\n",
       "0   293705  arnvig01   293602       1     0        0\n",
       "1   704247  arnvig02   704187       1     1        0\n",
       "2   786164  arnvig03   786038       0     0        0\n",
       "3   786164  arnvig04   786090       0     1        0\n",
       "4  1175315  arnvig05  1174124       1     0        0"
      ]
     },
     "execution_count": 28,
     "metadata": {},
     "output_type": "execute_result"
    }
   ],
   "source": [
    "#create a copy of tier1, add sRNA length to it and sort it.\n",
    "temp1 = tier1.copy()\n",
    "temp1['length'] = temp1.end-temp1.start\n",
    "temp1.sort_values('length', inplace=True, ascending=True) #for keeping the largest change \"ascending\" to False\n",
    "\n",
    "_keep = [1,]*len(temp1)\n",
    "\n",
    "#For random removal do this on tier1 not temp1\n",
    "for chk in overlap_sRNA_starts:\n",
    "    if len(temp1[(temp1.start<=chk)&(temp1.end>=chk)])>1:\n",
    "        for x in temp1[(temp1.start<=chk)&(temp1.end>=chk)].index[1:]:\n",
    "            _keep[x]=0\n",
    "            \n",
    "tier1['keep'] = _keep\n",
    "\n",
    "tier1.head()"
   ]
  },
  {
   "cell_type": "markdown",
   "metadata": {},
   "source": [
    "Actually, this would be best done with a function..."
   ]
  },
  {
   "cell_type": "code",
   "execution_count": 5,
   "metadata": {
    "collapsed": true
   },
   "outputs": [],
   "source": [
    "def flag_duplicates(sRNA_df, remove=True, keep='shortest'):\n",
    "    \"\"\"\n",
    "    Find duplicate sRNAs and flag them. \n",
    "    \n",
    "    Duplicates can be removed based on simple criterion \n",
    "    of length.\n",
    "    \n",
    "    INPUT:\n",
    "    ------\n",
    "    sRNA_df: DataFrame of sRNA with 'start', 'end' and 'strand'\n",
    "    remove: bool, False - mark duplicates, True - remove duplicates\n",
    "    keep: str, 'shortest'|'longest'|'random', criterion defining what\n",
    "          sRNA to keep.\n",
    "          \n",
    "    OUTPUT:\n",
    "    -------\n",
    "    flags: list, a list of 0/1 based on whether or not to keep a given\n",
    "            species.\n",
    "    \"\"\"\n",
    "    \n",
    "    _mtb_dummy = np.zeros((2,4411532))\n",
    "\n",
    "    for (_start, _end, _strand) in zip(list(sRNA_df.start),list(sRNA_df.end),list(sRNA_df.strand)):\n",
    "        _mtb_dummy[_strand,_start:_end]+=1\n",
    "    \n",
    "    _overlaps = sorted([(x,0) for x in np.where(_mtb_dummy[0]>1)[0]]+[(x,1) for x in np.where(_mtb_dummy[1]>1)[0]])\n",
    "        \n",
    "    _overlap_sRNA_starts = [_overlaps[0]]\n",
    "    for ind,val in enumerate(_overlaps[1:]):\n",
    "        if val[0]-_overlaps[ind][0]>1: \n",
    "            _overlap_sRNA_starts.append(val)\n",
    "            \n",
    "    _temp = sRNA_df.copy()\n",
    "    _temp['length'] = _temp.end-_temp.start\n",
    "    \n",
    "    if keep=='shortest':\n",
    "        _temp.sort_values('length', inplace=True, ascending=True)\n",
    "    if keep=='longest':\n",
    "        _temp.sort_values('length', inplace=True, ascending=False)\n",
    "    if keep=='random':\n",
    "        pass #don't do anything, just take whichever is first.\n",
    "    \n",
    "    if remove==True:\n",
    "        _flag = [1,]*len(_temp)\n",
    "    if remove==False:\n",
    "        _flag = [0,]*len(_temp)\n",
    "\n",
    "    for (_chk, _orientation) in _overlap_sRNA_starts:\n",
    "        if len(_temp[(_temp.start<=_chk)&(_temp.end>=_chk)&(_temp.strand==_orientation)])>1:\n",
    "            \n",
    "            if remove==True:\n",
    "                for x in _temp[(_temp.start<=_chk)&(_temp.end>=_chk)&(_temp.strand==_orientation)].index[1:]:\n",
    "                    _flag[x]=0\n",
    "                    \n",
    "            if remove==False:\n",
    "                for x in _temp[(_temp.start<=_chk)&(_temp.end>=_chk)&(_temp.strand==_orientation)].index:\n",
    "                    _flag[x]=1\n",
    "                    \n",
    "    return _flag\n",
    "            "
   ]
  },
  {
   "cell_type": "code",
   "execution_count": 147,
   "metadata": {
    "collapsed": true
   },
   "outputs": [],
   "source": [
    "tier1['keep'] = flag_duplicates(tier1)"
   ]
  },
  {
   "cell_type": "code",
   "execution_count": 148,
   "metadata": {
    "collapsed": false
   },
   "outputs": [
    {
     "name": "stdout",
     "output_type": "stream",
     "text": [
      "Counter({0.0: 4405126, 1.0: 6406})\n",
      "Counter({0.0: 4400742, 1.0: 10700, 2.0: 90})\n"
     ]
    }
   ],
   "source": [
    "mtb_dummy = np.zeros((2,4411532))\n",
    "\n",
    "for (_start, _end, _strand) in zip(list(tier1[tier1.keep==1].start),\n",
    "                                   list(tier1[tier1.keep==1].end),\n",
    "                                   list(tier1[tier1.keep==1].strand)):\n",
    "    mtb_dummy[_strand,_start:_end]+=1\n",
    "    \n",
    "print(Counter(mtb_dummy[0]))\n",
    "print(Counter(mtb_dummy[1]))"
   ]
  },
  {
   "cell_type": "markdown",
   "metadata": {},
   "source": [
    "Something has gone wrong... What happaned?"
   ]
  },
  {
   "cell_type": "code",
   "execution_count": 149,
   "metadata": {
    "collapsed": false
   },
   "outputs": [
    {
     "data": {
      "text/plain": [
       "array([1175225, 1175226, 1175227, 1175228, 1175229, 1175230, 1175231,\n",
       "       1175232, 1175233, 1175234, 1175235, 1175236, 1175237, 1175238,\n",
       "       1175239, 1175240, 1175241, 1175242, 1175243, 1175244, 1175245,\n",
       "       1175246, 1175247, 1175248, 1175249, 1175250, 1175251, 1175252,\n",
       "       1175253, 1175254, 1175255, 1175256, 1175257, 1175258, 1175259,\n",
       "       1175260, 1175261, 1175262, 1175263, 1175264, 1175265, 1175266,\n",
       "       1175267, 1175268, 1175269, 1175270, 1175271, 1175272, 1175273,\n",
       "       1175274, 1175275, 1175276, 1175277, 1175278, 1175279, 1175280,\n",
       "       1175281, 1175282, 1175283, 1175284, 1175285, 1175286, 1175287,\n",
       "       1175288, 1175289, 1175290, 1175291, 1175292, 1175293, 1175294,\n",
       "       1175295, 1175296, 1175297, 1175298, 1175299, 1175300, 1175301,\n",
       "       1175302, 1175303, 1175304, 1175305, 1175306, 1175307, 1175308,\n",
       "       1175309, 1175310, 1175311, 1175312, 1175313, 1175314])"
      ]
     },
     "execution_count": 149,
     "metadata": {},
     "output_type": "execute_result"
    }
   ],
   "source": [
    "np.where(mtb_dummy[1]==2)[0]"
   ]
  },
  {
   "cell_type": "code",
   "execution_count": 150,
   "metadata": {
    "collapsed": false
   },
   "outputs": [
    {
     "data": {
      "text/html": [
       "<div>\n",
       "<table border=\"1\" class=\"dataframe\">\n",
       "  <thead>\n",
       "    <tr style=\"text-align: right;\">\n",
       "      <th></th>\n",
       "      <th>end</th>\n",
       "      <th>name</th>\n",
       "      <th>source</th>\n",
       "      <th>start</th>\n",
       "      <th>strand</th>\n",
       "      <th>keep</th>\n",
       "    </tr>\n",
       "  </thead>\n",
       "  <tbody>\n",
       "    <tr>\n",
       "      <th>4</th>\n",
       "      <td>1175315</td>\n",
       "      <td>arnvig05</td>\n",
       "      <td>Arnvig14</td>\n",
       "      <td>1174124</td>\n",
       "      <td>1</td>\n",
       "      <td>0</td>\n",
       "    </tr>\n",
       "    <tr>\n",
       "      <th>5</th>\n",
       "      <td>1175315</td>\n",
       "      <td>arnvig06</td>\n",
       "      <td>Arnvig14</td>\n",
       "      <td>1175178</td>\n",
       "      <td>1</td>\n",
       "      <td>1</td>\n",
       "    </tr>\n",
       "    <tr>\n",
       "      <th>33</th>\n",
       "      <td>1175315</td>\n",
       "      <td>mpr5</td>\n",
       "      <td>Tuberculist</td>\n",
       "      <td>1175225</td>\n",
       "      <td>1</td>\n",
       "      <td>1</td>\n",
       "    </tr>\n",
       "  </tbody>\n",
       "</table>\n",
       "</div>"
      ],
      "text/plain": [
       "        end      name       source    start  strand  keep\n",
       "4   1175315  arnvig05     Arnvig14  1174124       1     0\n",
       "5   1175315  arnvig06     Arnvig14  1175178       1     1\n",
       "33  1175315      mpr5  Tuberculist  1175225       1     1"
      ]
     },
     "execution_count": 150,
     "metadata": {},
     "output_type": "execute_result"
    }
   ],
   "source": [
    "tier1[(tier1.start<=1175225)&(tier1.end>=1175225)]"
   ]
  },
  {
   "cell_type": "markdown",
   "metadata": {},
   "source": [
    "I see what happened - I had three different overlapping sRNAs, and only 2 got picked up as duplicates with the third one flying under the radar. This needs to be fixed manually, lest I recode everything... So need to make sure to do a QC with the sums at the end of each filtering."
   ]
  },
  {
   "cell_type": "code",
   "execution_count": 151,
   "metadata": {
    "collapsed": false
   },
   "outputs": [
    {
     "name": "stdout",
     "output_type": "stream",
     "text": [
      "Counter({0.0: 4405126, 1.0: 6406})\n",
      "Counter({0.0: 4400789, 1.0: 10743})\n"
     ]
    }
   ],
   "source": [
    "tier1.keep[tier1.name=='arnvig06']=0\n",
    "\n",
    "mtb_dummy = np.zeros((2,4411532))\n",
    "\n",
    "for (_start, _end, _strand) in zip(list(tier1[tier1.keep==1].start),\n",
    "                                   list(tier1[tier1.keep==1].end),\n",
    "                                   list(tier1[tier1.keep==1].strand)):\n",
    "    mtb_dummy[_strand,_start:_end]+=1\n",
    "    \n",
    "print(Counter(mtb_dummy[0]))\n",
    "print(Counter(mtb_dummy[1]))"
   ]
  },
  {
   "cell_type": "markdown",
   "metadata": {},
   "source": [
    "Good, save."
   ]
  },
  {
   "cell_type": "code",
   "execution_count": 152,
   "metadata": {
    "collapsed": false
   },
   "outputs": [],
   "source": [
    "tier1.to_csv('{}sRNA_tier1.csv'.format(interim_path))"
   ]
  },
  {
   "cell_type": "markdown",
   "metadata": {},
   "source": [
    "## Generate a list of tier2 sRNAs"
   ]
  },
  {
   "cell_type": "code",
   "execution_count": 153,
   "metadata": {
    "collapsed": false
   },
   "outputs": [
    {
     "data": {
      "text/html": [
       "<div>\n",
       "<table border=\"1\" class=\"dataframe\">\n",
       "  <thead>\n",
       "    <tr style=\"text-align: right;\">\n",
       "      <th></th>\n",
       "      <th>end</th>\n",
       "      <th>name</th>\n",
       "      <th>source</th>\n",
       "      <th>start</th>\n",
       "      <th>strand</th>\n",
       "    </tr>\n",
       "  </thead>\n",
       "  <tbody>\n",
       "    <tr>\n",
       "      <th>0</th>\n",
       "      <td>23998</td>\n",
       "      <td>candidate_1</td>\n",
       "      <td>Miotto13</td>\n",
       "      <td>23850</td>\n",
       "      <td>1</td>\n",
       "    </tr>\n",
       "    <tr>\n",
       "      <th>1</th>\n",
       "      <td>24157</td>\n",
       "      <td>candidate_2</td>\n",
       "      <td>Miotto13</td>\n",
       "      <td>24046</td>\n",
       "      <td>1</td>\n",
       "    </tr>\n",
       "    <tr>\n",
       "      <th>2</th>\n",
       "      <td>24787</td>\n",
       "      <td>candidate_3</td>\n",
       "      <td>Miotto13</td>\n",
       "      <td>24672</td>\n",
       "      <td>1</td>\n",
       "    </tr>\n",
       "    <tr>\n",
       "      <th>3</th>\n",
       "      <td>25274</td>\n",
       "      <td>candidate_4</td>\n",
       "      <td>Miotto13</td>\n",
       "      <td>24867</td>\n",
       "      <td>1</td>\n",
       "    </tr>\n",
       "    <tr>\n",
       "      <th>4</th>\n",
       "      <td>51056</td>\n",
       "      <td>candidate_5</td>\n",
       "      <td>Miotto13</td>\n",
       "      <td>50563</td>\n",
       "      <td>1</td>\n",
       "    </tr>\n",
       "  </tbody>\n",
       "</table>\n",
       "</div>"
      ],
      "text/plain": [
       "     end         name    source  start  strand\n",
       "0  23998  candidate_1  Miotto13  23850       1\n",
       "1  24157  candidate_2  Miotto13  24046       1\n",
       "2  24787  candidate_3  Miotto13  24672       1\n",
       "3  25274  candidate_4  Miotto13  24867       1\n",
       "4  51056  candidate_5  Miotto13  50563       1"
      ]
     },
     "execution_count": 153,
     "metadata": {},
     "output_type": "execute_result"
    }
   ],
   "source": [
    "tier2 = pd.DataFrame({'name': list(miotto[miotto.Northern_validation!=1]['Candidate ID'])+list(dichiara[dichiara.TB_validated!=1]['Name'])+list(namouchi[namouchi.Northern_validated!=1]['name']), \n",
    "                      'start': list(miotto[miotto.Northern_validation!=1]['Start'])+list(dichiara[dichiara.TB_validated!=1]['Start'])+list(namouchi[namouchi.Northern_validated!=1]['start']), \n",
    "                      'end': list(miotto[miotto.Northern_validation!=1]['End'])+list(dichiara[dichiara.TB_validated!=1]['End'])+list(namouchi[namouchi.Northern_validated!=1]['stop']), \n",
    "                      'strand': list(miotto[miotto.Northern_validation!=1]['Strand'])+list(dichiara[dichiara.TB_validated!=1]['Strand'])+list(namouchi[namouchi.Northern_validated!=1]['orientation']),\n",
    "                      'source': ['Miotto13',]*len(miotto[miotto.Northern_validation!=1])+['DiChiara10',]*len(dichiara[dichiara.TB_validated!=1])+['Namouchi16',]*len(namouchi[namouchi.Northern_validated!=1])})\n",
    "\n",
    "tier2.head()"
   ]
  },
  {
   "cell_type": "code",
   "execution_count": 96,
   "metadata": {
    "collapsed": false
   },
   "outputs": [
    {
     "name": "stdout",
     "output_type": "stream",
     "text": [
      "Counter({0.0: 4329554, 1.0: 79219, 2.0: 2667, 3.0: 92})\n",
      "Counter({0.0: 4345485, 1.0: 63844, 2.0: 2025, 3.0: 178})\n"
     ]
    }
   ],
   "source": [
    "mtb_dummy2 = np.zeros((2,4411532))\n",
    "\n",
    "for (_start, _end, _strand) in zip(list(tier2.start),list(tier2.end),list(tier2.strand)):\n",
    "    mtb_dummy2[_strand,_start:_end]+=1\n",
    "    \n",
    "print(Counter(mtb_dummy2[0]))\n",
    "print(Counter(mtb_dummy2[1]))"
   ]
  },
  {
   "cell_type": "code",
   "execution_count": 97,
   "metadata": {
    "collapsed": false
   },
   "outputs": [
    {
     "data": {
      "text/plain": [
       "0"
      ]
     },
     "execution_count": 97,
     "metadata": {},
     "output_type": "execute_result"
    }
   ],
   "source": [
    "#Reality check 1\n",
    "len(tier2[tier2.start>tier2.end])"
   ]
  },
  {
   "cell_type": "code",
   "execution_count": 154,
   "metadata": {
    "collapsed": false
   },
   "outputs": [
    {
     "data": {
      "text/html": [
       "<div>\n",
       "<table border=\"1\" class=\"dataframe\">\n",
       "  <thead>\n",
       "    <tr style=\"text-align: right;\">\n",
       "      <th></th>\n",
       "      <th>end</th>\n",
       "      <th>name</th>\n",
       "      <th>source</th>\n",
       "      <th>start</th>\n",
       "      <th>strand</th>\n",
       "      <th>keep</th>\n",
       "    </tr>\n",
       "  </thead>\n",
       "  <tbody>\n",
       "    <tr>\n",
       "      <th>0</th>\n",
       "      <td>23998</td>\n",
       "      <td>candidate_1</td>\n",
       "      <td>Miotto13</td>\n",
       "      <td>23850</td>\n",
       "      <td>1</td>\n",
       "      <td>1</td>\n",
       "    </tr>\n",
       "    <tr>\n",
       "      <th>1</th>\n",
       "      <td>24157</td>\n",
       "      <td>candidate_2</td>\n",
       "      <td>Miotto13</td>\n",
       "      <td>24046</td>\n",
       "      <td>1</td>\n",
       "      <td>1</td>\n",
       "    </tr>\n",
       "    <tr>\n",
       "      <th>2</th>\n",
       "      <td>24787</td>\n",
       "      <td>candidate_3</td>\n",
       "      <td>Miotto13</td>\n",
       "      <td>24672</td>\n",
       "      <td>1</td>\n",
       "      <td>1</td>\n",
       "    </tr>\n",
       "    <tr>\n",
       "      <th>3</th>\n",
       "      <td>25274</td>\n",
       "      <td>candidate_4</td>\n",
       "      <td>Miotto13</td>\n",
       "      <td>24867</td>\n",
       "      <td>1</td>\n",
       "      <td>1</td>\n",
       "    </tr>\n",
       "    <tr>\n",
       "      <th>4</th>\n",
       "      <td>51056</td>\n",
       "      <td>candidate_5</td>\n",
       "      <td>Miotto13</td>\n",
       "      <td>50563</td>\n",
       "      <td>1</td>\n",
       "      <td>1</td>\n",
       "    </tr>\n",
       "  </tbody>\n",
       "</table>\n",
       "</div>"
      ],
      "text/plain": [
       "     end         name    source  start  strand  keep\n",
       "0  23998  candidate_1  Miotto13  23850       1     1\n",
       "1  24157  candidate_2  Miotto13  24046       1     1\n",
       "2  24787  candidate_3  Miotto13  24672       1     1\n",
       "3  25274  candidate_4  Miotto13  24867       1     1\n",
       "4  51056  candidate_5  Miotto13  50563       1     1"
      ]
     },
     "execution_count": 154,
     "metadata": {},
     "output_type": "execute_result"
    }
   ],
   "source": [
    "tier2['keep'] = flag_duplicates(tier2)\n",
    "\n",
    "tier2.head()"
   ]
  },
  {
   "cell_type": "code",
   "execution_count": 99,
   "metadata": {
    "collapsed": false
   },
   "outputs": [
    {
     "name": "stdout",
     "output_type": "stream",
     "text": [
      "Counter({0.0: 4332635, 1.0: 78805, 2.0: 92})\n",
      "Counter({0.0: 4346905, 1.0: 64542, 2.0: 85})\n"
     ]
    }
   ],
   "source": [
    "#Reality check 2\n",
    "mtb_dummy2 = np.zeros((2,4411532))\n",
    "\n",
    "for (_start, _end, _strand) in zip(list(tier2[tier2.keep==1].start),\n",
    "                                   list(tier2[tier2.keep==1].end),\n",
    "                                   list(tier2[tier2.keep==1].strand)):\n",
    "    mtb_dummy2[_strand,_start:_end]+=1\n",
    "    \n",
    "print(Counter(mtb_dummy2[0]))\n",
    "print(Counter(mtb_dummy2[1]))"
   ]
  },
  {
   "cell_type": "code",
   "execution_count": 155,
   "metadata": {
    "collapsed": false
   },
   "outputs": [
    {
     "data": {
      "text/plain": [
       "Counter({0: 70, 1: 2075})"
      ]
     },
     "execution_count": 155,
     "metadata": {},
     "output_type": "execute_result"
    }
   ],
   "source": [
    "Counter(tier2.keep)"
   ]
  },
  {
   "cell_type": "markdown",
   "metadata": {},
   "source": [
    "I can run the function twice, but I will run into indexing issues... so I have to reindex based on a descending keep and then change the keep values based on that..."
   ]
  },
  {
   "cell_type": "code",
   "execution_count": 156,
   "metadata": {
    "collapsed": true
   },
   "outputs": [],
   "source": [
    "#I think I can run the function twice...\n",
    "tier2.sort_values('keep', ascending=False, inplace=True)\n",
    "tier2.reset_index(inplace=True, drop=True)\n",
    "tier2.keep[tier2.keep==1]=flag_duplicates(tier2[tier2.keep==1])"
   ]
  },
  {
   "cell_type": "code",
   "execution_count": 157,
   "metadata": {
    "collapsed": false
   },
   "outputs": [
    {
     "data": {
      "text/html": [
       "<div>\n",
       "<table border=\"1\" class=\"dataframe\">\n",
       "  <thead>\n",
       "    <tr style=\"text-align: right;\">\n",
       "      <th></th>\n",
       "      <th>end</th>\n",
       "      <th>name</th>\n",
       "      <th>source</th>\n",
       "      <th>start</th>\n",
       "      <th>strand</th>\n",
       "      <th>keep</th>\n",
       "    </tr>\n",
       "  </thead>\n",
       "  <tbody>\n",
       "    <tr>\n",
       "      <th>0</th>\n",
       "      <td>23998</td>\n",
       "      <td>candidate_1</td>\n",
       "      <td>Miotto13</td>\n",
       "      <td>23850</td>\n",
       "      <td>1</td>\n",
       "      <td>1</td>\n",
       "    </tr>\n",
       "    <tr>\n",
       "      <th>1</th>\n",
       "      <td>2726695</td>\n",
       "      <td>candidate_1424</td>\n",
       "      <td>Miotto13</td>\n",
       "      <td>2726660</td>\n",
       "      <td>0</td>\n",
       "      <td>1</td>\n",
       "    </tr>\n",
       "    <tr>\n",
       "      <th>2</th>\n",
       "      <td>2710084</td>\n",
       "      <td>candidate_1422</td>\n",
       "      <td>Miotto13</td>\n",
       "      <td>2710046</td>\n",
       "      <td>0</td>\n",
       "      <td>1</td>\n",
       "    </tr>\n",
       "    <tr>\n",
       "      <th>3</th>\n",
       "      <td>2698817</td>\n",
       "      <td>candidate_1421</td>\n",
       "      <td>Miotto13</td>\n",
       "      <td>2698780</td>\n",
       "      <td>0</td>\n",
       "      <td>1</td>\n",
       "    </tr>\n",
       "    <tr>\n",
       "      <th>4</th>\n",
       "      <td>2698745</td>\n",
       "      <td>candidate_1420</td>\n",
       "      <td>Miotto13</td>\n",
       "      <td>2698715</td>\n",
       "      <td>0</td>\n",
       "      <td>1</td>\n",
       "    </tr>\n",
       "  </tbody>\n",
       "</table>\n",
       "</div>"
      ],
      "text/plain": [
       "       end            name    source    start  strand  keep\n",
       "0    23998     candidate_1  Miotto13    23850       1     1\n",
       "1  2726695  candidate_1424  Miotto13  2726660       0     1\n",
       "2  2710084  candidate_1422  Miotto13  2710046       0     1\n",
       "3  2698817  candidate_1421  Miotto13  2698780       0     1\n",
       "4  2698745  candidate_1420  Miotto13  2698715       0     1"
      ]
     },
     "execution_count": 157,
     "metadata": {},
     "output_type": "execute_result"
    }
   ],
   "source": [
    "tier2.head()"
   ]
  },
  {
   "cell_type": "code",
   "execution_count": 158,
   "metadata": {
    "collapsed": false
   },
   "outputs": [
    {
     "data": {
      "text/plain": [
       "Counter({0: 73, 1: 2072})"
      ]
     },
     "execution_count": 158,
     "metadata": {},
     "output_type": "execute_result"
    }
   ],
   "source": [
    "Counter(tier2.keep)"
   ]
  },
  {
   "cell_type": "code",
   "execution_count": 159,
   "metadata": {
    "collapsed": false
   },
   "outputs": [
    {
     "name": "stdout",
     "output_type": "stream",
     "text": [
      "Counter({0.0: 4332715, 1.0: 78817})\n",
      "Counter({0.0: 4346917, 1.0: 64615})\n"
     ]
    }
   ],
   "source": [
    "#Reality check 2\n",
    "mtb_dummy2 = np.zeros((2,4411532))\n",
    "\n",
    "for (_start, _end, _strand) in zip(list(tier2[tier2.keep==1].start),\n",
    "                                   list(tier2[tier2.keep==1].end),\n",
    "                                   list(tier2[tier2.keep==1].strand)):\n",
    "    mtb_dummy2[_strand,_start:_end]+=1\n",
    "    \n",
    "print(Counter(mtb_dummy2[0]))\n",
    "print(Counter(mtb_dummy2[1]))"
   ]
  },
  {
   "cell_type": "markdown",
   "metadata": {},
   "source": [
    "This worked. So instead of a curated deletion I can run the function twice, keeping track of the indices. Save the tier2 sRNAs."
   ]
  },
  {
   "cell_type": "code",
   "execution_count": 160,
   "metadata": {
    "collapsed": true
   },
   "outputs": [],
   "source": [
    "tier2.to_csv('{}sRNA_tier2.csv'.format(interim_path))"
   ]
  },
  {
   "cell_type": "markdown",
   "metadata": {},
   "source": [
    "## Create a federated sRNA list\n",
    "\n",
    "Bring in all the Tier1 and Tier2 sRNAs into a single file."
   ]
  },
  {
   "cell_type": "code",
   "execution_count": 3,
   "metadata": {
    "collapsed": false
   },
   "outputs": [],
   "source": [
    "tier1 = pd.read_csv('{}sRNA_tier1.csv'.format(interim_path), index_col=0)\n",
    "tier2 = pd.read_csv('{}sRNA_tier2.csv'.format(interim_path), index_col=0)\n",
    "\n",
    "#label which tier a given sRNA belongs to.\n",
    "tier1['tier'] = [1,]*len(tier1)\n",
    "tier2['tier'] = [2,]*len(tier2)\n",
    "\n",
    "#Federate the sRNAs and reset the indeces\n",
    "sRNA_candidates = pd.concat([tier1[tier1.keep==1],tier2[tier2.keep==1]])\n",
    "sRNA_candidates.sort_values('start', inplace=True)\n",
    "sRNA_candidates.reset_index(inplace=True, drop=True)"
   ]
  },
  {
   "cell_type": "code",
   "execution_count": 6,
   "metadata": {
    "collapsed": false
   },
   "outputs": [],
   "source": [
    "#Find duplicates\n",
    "sRNA_candidates['duplicates'] = flag_duplicates(sRNA_candidates, remove=False)\n",
    "\n",
    "#Discard all tier2 sRNAs that are already included as tier1\n",
    "sRNA_candidates.keep[(sRNA_candidates.duplicates==1)&(sRNA_candidates.tier==2)]=0"
   ]
  },
  {
   "cell_type": "code",
   "execution_count": 7,
   "metadata": {
    "collapsed": false
   },
   "outputs": [
    {
     "name": "stdout",
     "output_type": "stream",
     "text": [
      "Counter({0.0: 4328074, 1.0: 83458})\n",
      "Counter({0.0: 4337559, 1.0: 73973})\n"
     ]
    }
   ],
   "source": [
    "#Reality check\n",
    "mtb_dummy3 = np.zeros((2,4411532))\n",
    "\n",
    "for (_start, _end, _strand) in zip(list(sRNA_candidates[sRNA_candidates.keep==1].start),\n",
    "                                   list(sRNA_candidates[sRNA_candidates.keep==1].end),\n",
    "                                   list(sRNA_candidates[sRNA_candidates.keep==1].strand)):\n",
    "    mtb_dummy3[_strand,_start:_end]+=1\n",
    "    \n",
    "print(Counter(mtb_dummy3[0]))\n",
    "print(Counter(mtb_dummy3[1]))"
   ]
  },
  {
   "cell_type": "markdown",
   "metadata": {},
   "source": [
    "Worked!\n",
    "\n",
    "Next let's generate the type of output that would be useful for RNAseq.\n",
    "\n",
    "## New PTT\n",
    "\n",
    "Needs to have the form of:\n",
    "\n",
    "``MTB_anc RefSeq  exon    1       1524    .       +       .       ID=MTB_anc:dnaA;gene_id=Rv0001;db_xref=GeneID:885041``\n",
    "\n",
    "These correspond to (see <a href='http://www.ensembl.org/info/website/upload/gff.html'>Ensembl</a>):\n",
    "\n",
    "### Fields\n",
    "\n",
    "Fields must be tab-separated. Also, all but the final field in each feature line must contain a value; \"empty\" columns should be denoted with a '.'\n",
    "\n",
    "- __seqname__ - name of the chromosome or scaffold; chromosome names can be given with or without the 'chr' prefix. _Important note_: the seqname must be one used within Ensembl, i.e. a standard chromosome name or an Ensembl identifier such as a scaffold ID, without any additional content such as species or assembly. See the example GFF output below.\n",
    "- __source__ - name of the program that generated this feature, or the data source (database or project name)\n",
    "- __feature__ - feature type name, e.g. Gene, Variation, Similarity\n",
    "- __start__ - Start position of the feature, with sequence numbering starting at 1.\n",
    "- __end__ - End position of the feature, with sequence numbering starting at 1.\n",
    "- __score__ - A floating point value.\n",
    "- __strand__ - defined as + (forward) or - (reverse).\n",
    "- __frame__ - One of '0', '1' or '2'. '0' indicates that the first base of the feature is the first base of a codon, '1' that the second base is the first base of a codon, and so on..\n",
    "- __attribute__ - A semicolon-separated list of tag-value pairs, providing additional information about each feature.\n",
    "\n",
    "Keep in mind that by default, htseq-count expects gene_id in the \"attribute\" field. This can be changed by setting the `--idattr` parameter, but I'll keep it simple just in case."
   ]
  },
  {
   "cell_type": "code",
   "execution_count": 8,
   "metadata": {
    "collapsed": false
   },
   "outputs": [],
   "source": [
    "#save the sRNA_candidates DataFrame\n",
    "sRNA_candidates.to_csv('{}sRNA_candidates.csv'.format(processed_path))\n",
    "\n",
    "#Write output\n",
    "output_file = open('{}MTB_sRNA_collated.gff'.format(processed_path), 'w')\n",
    "\n",
    "#Create a dictionary to translate my strand annotation to the +/- convention\n",
    "strnd = {0:'-', 1:'+'}\n",
    "\n",
    "#write output\n",
    "for row in sRNA_candidates.iterrows():\n",
    "    _row=row[1]\n",
    "    _line='MTB_anc\\t{}\\texon\\t{}\\t{}\\t.\\t{}\\t.\\tgene_id={};tier={}\\n'.format(_row['source'],\n",
    "                                                                             _row['start'],\n",
    "                                                                             _row['end'],\n",
    "                                                                             strnd[_row['strand']],\n",
    "                                                                             _row['name'],\n",
    "                                                                             _row['tier'])\n",
    "    output_file.write(_line)\n",
    "\n",
    "output_file.close()"
   ]
  },
  {
   "cell_type": "markdown",
   "metadata": {},
   "source": [
    "Looks good, let's try it out now..."
   ]
  }
 ],
 "metadata": {
  "kernelspec": {
   "display_name": "Python 3",
   "language": "python",
   "name": "python3"
  },
  "language_info": {
   "codemirror_mode": {
    "name": "ipython",
    "version": 3
   },
   "file_extension": ".py",
   "mimetype": "text/x-python",
   "name": "python",
   "nbconvert_exporter": "python",
   "pygments_lexer": "ipython3",
   "version": "3.5.1"
  }
 },
 "nbformat": 4,
 "nbformat_minor": 2
}
